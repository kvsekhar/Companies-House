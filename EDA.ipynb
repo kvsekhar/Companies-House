{
 "cells": [
  {
   "cell_type": "code",
   "execution_count": 1,
   "id": "ffaebb0f",
   "metadata": {},
   "outputs": [
    {
     "data": {
      "application/javascript": [
       "\n",
       "            setTimeout(function() {\n",
       "                var nbb_cell_id = 1;\n",
       "                var nbb_unformatted_code = \"%load_ext nb_black\";\n",
       "                var nbb_formatted_code = \"%load_ext nb_black\";\n",
       "                var nbb_cells = Jupyter.notebook.get_cells();\n",
       "                for (var i = 0; i < nbb_cells.length; ++i) {\n",
       "                    if (nbb_cells[i].input_prompt_number == nbb_cell_id) {\n",
       "                        if (nbb_cells[i].get_text() == nbb_unformatted_code) {\n",
       "                             nbb_cells[i].set_text(nbb_formatted_code);\n",
       "                        }\n",
       "                        break;\n",
       "                    }\n",
       "                }\n",
       "            }, 500);\n",
       "            "
      ],
      "text/plain": [
       "<IPython.core.display.Javascript object>"
      ]
     },
     "metadata": {},
     "output_type": "display_data"
    }
   ],
   "source": [
    "%load_ext nb_black"
   ]
  },
  {
   "cell_type": "code",
   "execution_count": 2,
   "id": "5365c798",
   "metadata": {},
   "outputs": [
    {
     "data": {
      "application/javascript": [
       "\n",
       "            setTimeout(function() {\n",
       "                var nbb_cell_id = 2;\n",
       "                var nbb_unformatted_code = \"CLASSIFICATIONS = {'01': 'Agriculture,Forestry and Fishing',\\n    '02': 'Agriculture, Forestry and Fishing',\\n    '03': 'Agriculture, Forestry and Fishing',\\n    '05': 'Mining and Quarrying',\\n    '06': 'Mining and Quarrying',\\n    '07': 'Mining and Quarrying',\\n    '08': 'Mining and Quarrying',\\n    '09': 'Mining and Quarrying',\\n    '10': 'Manufacturing',\\n    '11': 'Manufacturing',\\n    '12': 'Manufacturing',\\n    '13': 'Manufacturing',\\n    '14': 'Manufacturing',\\n    '15': 'Manufacturing',\\n    '16': 'Manufacturing',\\n    '17': 'Manufacturing',\\n    '18': 'Manufacturing',\\n    '19': 'Manufacturing',\\n    '20': 'Manufacturing',\\n    '21': 'Manufacturing',\\n    '22': 'Manufacturing',\\n    '23': 'Manufacturing',\\n    '24': 'Manufacturing',\\n    '25': 'Manufacturing',\\n    '26': 'Manufacturing',\\n    '27': 'Manufacturing',\\n    '28': 'Manufacturing',\\n    '29': 'Manufacturing',\\n    '30': 'Manufacturing',\\n    '31': 'Manufacturing',\\n    '32': 'Manufacturing',\\n    '33': 'Manufacturing',\\n    '35': 'Electricity, Gand, Steam and Air Conditioning Supply',\\n    '36': 'Water Supply; Sewerage, Waste Management and Remediation Activities',\\n    '37': 'Water Supply; Sewerage, Waste Management and Remediation Activities',\\n    '38': 'Water Supply; Sewerage, Waste Management and Remediation Activities',\\n    '39': 'Water Supply; Sewerage, Waste Management and Remediation Activities',\\n    '41': 'Construction',\\n    '42': 'Construction',\\n    '43': 'Construction',\\n    '45': 'Wholesale and Retail Trade; Repair of Motor Vehicles and Motorcycles',\\n    '46': 'Wholesale and Retail Trade; Repair of Motor Vehicles and Motorcycles',\\n    '47': 'Wholesale and Retail Trade; Repair of Motor Vehicles and Motorcycles',\\n    '49': 'Transportation and Storage',\\n    '50': 'Transportation and Storage',\\n    '51': 'Transportation and Storage',\\n    '52': 'Transportation and Storage',\\n    '53': 'Transportation and Storage',\\n    '55': 'Accommodation and Food Service Activities',\\n    '56': 'Accommodation and Food Service Activities',\\n    '58': 'Information and Communication',\\n    '59': 'Information and Communication',\\n    '60': 'Information and Communication',\\n    '61': 'Information and Communication',\\n    '62': 'Information and Communication',\\n    '63': 'Information and Communication',\\n    '64': 'Financial and Insurance Activities',\\n    '65': 'Financial and Insurance Activities',\\n    '66': 'Financial and Insurance Activities',\\n    '68': 'Real Estate Activities',\\n    '69': 'Professional, Scientific and Technical Activities',\\n    '70': 'Professional, Scientific and Technical Activities',\\n    '71': 'Professional, Scientific and Technical Activities',\\n    '72': 'Professional, Scientific and Technical Activities',\\n    '73': 'Professional, Scientific and Technical Activities',\\n    '74': 'Professional, Scientific and Technical Activities',\\n    '75': 'Professional, Scientific and Technical Activities',\\n    '77': 'Administrative and Support Service Activities',\\n    '78': 'Administrative and Support Service Activities',\\n    '79': 'Administrative and Support Service Activities',\\n    '80': 'Administrative and Support Service Activities',\\n    '81': 'Administrative and Support Service Activities',\\n    '82': 'Administrative and Support Service Activities',\\n    '84': 'Public Administration and Defence; Compulsory Social Security',\\n    '85': 'Education',\\n    '86': 'Human Health and Social Work Activities',\\n    '87': 'Human Health and Social Work Activities',\\n    '88': 'Human Health and Social Work Activities',\\n    '90': 'Arts, Entertainment and Recreation',\\n    '91': 'Arts, Entertainment and Recreation',\\n    '92': 'Arts, Entertainment and Recreation',\\n    '93': 'Arts, Entertainment and Recreation',\\n    '94': 'Other Service Activities',\\n    '95': 'Other Service Activities',\\n    '96': 'Other Service Activities',\\n    '97': 'Activities of Households and Employers',\\n    '98': 'Activities of Households and Employers',\\n    '99': 'Activities of Extraterritorial Organisations and Bodies'}\";\n",
       "                var nbb_formatted_code = \"CLASSIFICATIONS = {\\n    \\\"01\\\": \\\"Agriculture,Forestry and Fishing\\\",\\n    \\\"02\\\": \\\"Agriculture, Forestry and Fishing\\\",\\n    \\\"03\\\": \\\"Agriculture, Forestry and Fishing\\\",\\n    \\\"05\\\": \\\"Mining and Quarrying\\\",\\n    \\\"06\\\": \\\"Mining and Quarrying\\\",\\n    \\\"07\\\": \\\"Mining and Quarrying\\\",\\n    \\\"08\\\": \\\"Mining and Quarrying\\\",\\n    \\\"09\\\": \\\"Mining and Quarrying\\\",\\n    \\\"10\\\": \\\"Manufacturing\\\",\\n    \\\"11\\\": \\\"Manufacturing\\\",\\n    \\\"12\\\": \\\"Manufacturing\\\",\\n    \\\"13\\\": \\\"Manufacturing\\\",\\n    \\\"14\\\": \\\"Manufacturing\\\",\\n    \\\"15\\\": \\\"Manufacturing\\\",\\n    \\\"16\\\": \\\"Manufacturing\\\",\\n    \\\"17\\\": \\\"Manufacturing\\\",\\n    \\\"18\\\": \\\"Manufacturing\\\",\\n    \\\"19\\\": \\\"Manufacturing\\\",\\n    \\\"20\\\": \\\"Manufacturing\\\",\\n    \\\"21\\\": \\\"Manufacturing\\\",\\n    \\\"22\\\": \\\"Manufacturing\\\",\\n    \\\"23\\\": \\\"Manufacturing\\\",\\n    \\\"24\\\": \\\"Manufacturing\\\",\\n    \\\"25\\\": \\\"Manufacturing\\\",\\n    \\\"26\\\": \\\"Manufacturing\\\",\\n    \\\"27\\\": \\\"Manufacturing\\\",\\n    \\\"28\\\": \\\"Manufacturing\\\",\\n    \\\"29\\\": \\\"Manufacturing\\\",\\n    \\\"30\\\": \\\"Manufacturing\\\",\\n    \\\"31\\\": \\\"Manufacturing\\\",\\n    \\\"32\\\": \\\"Manufacturing\\\",\\n    \\\"33\\\": \\\"Manufacturing\\\",\\n    \\\"35\\\": \\\"Electricity, Gand, Steam and Air Conditioning Supply\\\",\\n    \\\"36\\\": \\\"Water Supply; Sewerage, Waste Management and Remediation Activities\\\",\\n    \\\"37\\\": \\\"Water Supply; Sewerage, Waste Management and Remediation Activities\\\",\\n    \\\"38\\\": \\\"Water Supply; Sewerage, Waste Management and Remediation Activities\\\",\\n    \\\"39\\\": \\\"Water Supply; Sewerage, Waste Management and Remediation Activities\\\",\\n    \\\"41\\\": \\\"Construction\\\",\\n    \\\"42\\\": \\\"Construction\\\",\\n    \\\"43\\\": \\\"Construction\\\",\\n    \\\"45\\\": \\\"Wholesale and Retail Trade; Repair of Motor Vehicles and Motorcycles\\\",\\n    \\\"46\\\": \\\"Wholesale and Retail Trade; Repair of Motor Vehicles and Motorcycles\\\",\\n    \\\"47\\\": \\\"Wholesale and Retail Trade; Repair of Motor Vehicles and Motorcycles\\\",\\n    \\\"49\\\": \\\"Transportation and Storage\\\",\\n    \\\"50\\\": \\\"Transportation and Storage\\\",\\n    \\\"51\\\": \\\"Transportation and Storage\\\",\\n    \\\"52\\\": \\\"Transportation and Storage\\\",\\n    \\\"53\\\": \\\"Transportation and Storage\\\",\\n    \\\"55\\\": \\\"Accommodation and Food Service Activities\\\",\\n    \\\"56\\\": \\\"Accommodation and Food Service Activities\\\",\\n    \\\"58\\\": \\\"Information and Communication\\\",\\n    \\\"59\\\": \\\"Information and Communication\\\",\\n    \\\"60\\\": \\\"Information and Communication\\\",\\n    \\\"61\\\": \\\"Information and Communication\\\",\\n    \\\"62\\\": \\\"Information and Communication\\\",\\n    \\\"63\\\": \\\"Information and Communication\\\",\\n    \\\"64\\\": \\\"Financial and Insurance Activities\\\",\\n    \\\"65\\\": \\\"Financial and Insurance Activities\\\",\\n    \\\"66\\\": \\\"Financial and Insurance Activities\\\",\\n    \\\"68\\\": \\\"Real Estate Activities\\\",\\n    \\\"69\\\": \\\"Professional, Scientific and Technical Activities\\\",\\n    \\\"70\\\": \\\"Professional, Scientific and Technical Activities\\\",\\n    \\\"71\\\": \\\"Professional, Scientific and Technical Activities\\\",\\n    \\\"72\\\": \\\"Professional, Scientific and Technical Activities\\\",\\n    \\\"73\\\": \\\"Professional, Scientific and Technical Activities\\\",\\n    \\\"74\\\": \\\"Professional, Scientific and Technical Activities\\\",\\n    \\\"75\\\": \\\"Professional, Scientific and Technical Activities\\\",\\n    \\\"77\\\": \\\"Administrative and Support Service Activities\\\",\\n    \\\"78\\\": \\\"Administrative and Support Service Activities\\\",\\n    \\\"79\\\": \\\"Administrative and Support Service Activities\\\",\\n    \\\"80\\\": \\\"Administrative and Support Service Activities\\\",\\n    \\\"81\\\": \\\"Administrative and Support Service Activities\\\",\\n    \\\"82\\\": \\\"Administrative and Support Service Activities\\\",\\n    \\\"84\\\": \\\"Public Administration and Defence; Compulsory Social Security\\\",\\n    \\\"85\\\": \\\"Education\\\",\\n    \\\"86\\\": \\\"Human Health and Social Work Activities\\\",\\n    \\\"87\\\": \\\"Human Health and Social Work Activities\\\",\\n    \\\"88\\\": \\\"Human Health and Social Work Activities\\\",\\n    \\\"90\\\": \\\"Arts, Entertainment and Recreation\\\",\\n    \\\"91\\\": \\\"Arts, Entertainment and Recreation\\\",\\n    \\\"92\\\": \\\"Arts, Entertainment and Recreation\\\",\\n    \\\"93\\\": \\\"Arts, Entertainment and Recreation\\\",\\n    \\\"94\\\": \\\"Other Service Activities\\\",\\n    \\\"95\\\": \\\"Other Service Activities\\\",\\n    \\\"96\\\": \\\"Other Service Activities\\\",\\n    \\\"97\\\": \\\"Activities of Households and Employers\\\",\\n    \\\"98\\\": \\\"Activities of Households and Employers\\\",\\n    \\\"99\\\": \\\"Activities of Extraterritorial Organisations and Bodies\\\",\\n}\";\n",
       "                var nbb_cells = Jupyter.notebook.get_cells();\n",
       "                for (var i = 0; i < nbb_cells.length; ++i) {\n",
       "                    if (nbb_cells[i].input_prompt_number == nbb_cell_id) {\n",
       "                        if (nbb_cells[i].get_text() == nbb_unformatted_code) {\n",
       "                             nbb_cells[i].set_text(nbb_formatted_code);\n",
       "                        }\n",
       "                        break;\n",
       "                    }\n",
       "                }\n",
       "            }, 500);\n",
       "            "
      ],
      "text/plain": [
       "<IPython.core.display.Javascript object>"
      ]
     },
     "metadata": {},
     "output_type": "display_data"
    }
   ],
   "source": [
    "CLASSIFICATIONS = {\n",
    "    \"01\": \"Agriculture,Forestry and Fishing\",\n",
    "    \"02\": \"Agriculture, Forestry and Fishing\",\n",
    "    \"03\": \"Agriculture, Forestry and Fishing\",\n",
    "    \"05\": \"Mining and Quarrying\",\n",
    "    \"06\": \"Mining and Quarrying\",\n",
    "    \"07\": \"Mining and Quarrying\",\n",
    "    \"08\": \"Mining and Quarrying\",\n",
    "    \"09\": \"Mining and Quarrying\",\n",
    "    \"10\": \"Manufacturing\",\n",
    "    \"11\": \"Manufacturing\",\n",
    "    \"12\": \"Manufacturing\",\n",
    "    \"13\": \"Manufacturing\",\n",
    "    \"14\": \"Manufacturing\",\n",
    "    \"15\": \"Manufacturing\",\n",
    "    \"16\": \"Manufacturing\",\n",
    "    \"17\": \"Manufacturing\",\n",
    "    \"18\": \"Manufacturing\",\n",
    "    \"19\": \"Manufacturing\",\n",
    "    \"20\": \"Manufacturing\",\n",
    "    \"21\": \"Manufacturing\",\n",
    "    \"22\": \"Manufacturing\",\n",
    "    \"23\": \"Manufacturing\",\n",
    "    \"24\": \"Manufacturing\",\n",
    "    \"25\": \"Manufacturing\",\n",
    "    \"26\": \"Manufacturing\",\n",
    "    \"27\": \"Manufacturing\",\n",
    "    \"28\": \"Manufacturing\",\n",
    "    \"29\": \"Manufacturing\",\n",
    "    \"30\": \"Manufacturing\",\n",
    "    \"31\": \"Manufacturing\",\n",
    "    \"32\": \"Manufacturing\",\n",
    "    \"33\": \"Manufacturing\",\n",
    "    \"35\": \"Electricity, Gand, Steam and Air Conditioning Supply\",\n",
    "    \"36\": \"Water Supply; Sewerage, Waste Management and Remediation Activities\",\n",
    "    \"37\": \"Water Supply; Sewerage, Waste Management and Remediation Activities\",\n",
    "    \"38\": \"Water Supply; Sewerage, Waste Management and Remediation Activities\",\n",
    "    \"39\": \"Water Supply; Sewerage, Waste Management and Remediation Activities\",\n",
    "    \"41\": \"Construction\",\n",
    "    \"42\": \"Construction\",\n",
    "    \"43\": \"Construction\",\n",
    "    \"45\": \"Wholesale and Retail Trade; Repair of Motor Vehicles and Motorcycles\",\n",
    "    \"46\": \"Wholesale and Retail Trade; Repair of Motor Vehicles and Motorcycles\",\n",
    "    \"47\": \"Wholesale and Retail Trade; Repair of Motor Vehicles and Motorcycles\",\n",
    "    \"49\": \"Transportation and Storage\",\n",
    "    \"50\": \"Transportation and Storage\",\n",
    "    \"51\": \"Transportation and Storage\",\n",
    "    \"52\": \"Transportation and Storage\",\n",
    "    \"53\": \"Transportation and Storage\",\n",
    "    \"55\": \"Accommodation and Food Service Activities\",\n",
    "    \"56\": \"Accommodation and Food Service Activities\",\n",
    "    \"58\": \"Information and Communication\",\n",
    "    \"59\": \"Information and Communication\",\n",
    "    \"60\": \"Information and Communication\",\n",
    "    \"61\": \"Information and Communication\",\n",
    "    \"62\": \"Information and Communication\",\n",
    "    \"63\": \"Information and Communication\",\n",
    "    \"64\": \"Financial and Insurance Activities\",\n",
    "    \"65\": \"Financial and Insurance Activities\",\n",
    "    \"66\": \"Financial and Insurance Activities\",\n",
    "    \"68\": \"Real Estate Activities\",\n",
    "    \"69\": \"Professional, Scientific and Technical Activities\",\n",
    "    \"70\": \"Professional, Scientific and Technical Activities\",\n",
    "    \"71\": \"Professional, Scientific and Technical Activities\",\n",
    "    \"72\": \"Professional, Scientific and Technical Activities\",\n",
    "    \"73\": \"Professional, Scientific and Technical Activities\",\n",
    "    \"74\": \"Professional, Scientific and Technical Activities\",\n",
    "    \"75\": \"Professional, Scientific and Technical Activities\",\n",
    "    \"77\": \"Administrative and Support Service Activities\",\n",
    "    \"78\": \"Administrative and Support Service Activities\",\n",
    "    \"79\": \"Administrative and Support Service Activities\",\n",
    "    \"80\": \"Administrative and Support Service Activities\",\n",
    "    \"81\": \"Administrative and Support Service Activities\",\n",
    "    \"82\": \"Administrative and Support Service Activities\",\n",
    "    \"84\": \"Public Administration and Defence; Compulsory Social Security\",\n",
    "    \"85\": \"Education\",\n",
    "    \"86\": \"Human Health and Social Work Activities\",\n",
    "    \"87\": \"Human Health and Social Work Activities\",\n",
    "    \"88\": \"Human Health and Social Work Activities\",\n",
    "    \"90\": \"Arts, Entertainment and Recreation\",\n",
    "    \"91\": \"Arts, Entertainment and Recreation\",\n",
    "    \"92\": \"Arts, Entertainment and Recreation\",\n",
    "    \"93\": \"Arts, Entertainment and Recreation\",\n",
    "    \"94\": \"Other Service Activities\",\n",
    "    \"95\": \"Other Service Activities\",\n",
    "    \"96\": \"Other Service Activities\",\n",
    "    \"97\": \"Activities of Households and Employers\",\n",
    "    \"98\": \"Activities of Households and Employers\",\n",
    "    \"99\": \"Activities of Extraterritorial Organisations and Bodies\",\n",
    "}"
   ]
  },
  {
   "cell_type": "code",
   "execution_count": 3,
   "id": "e04bdbe5",
   "metadata": {},
   "outputs": [
    {
     "data": {
      "application/javascript": [
       "\n",
       "            setTimeout(function() {\n",
       "                var nbb_cell_id = 3;\n",
       "                var nbb_unformatted_code = \"import pandas as pd\";\n",
       "                var nbb_formatted_code = \"import pandas as pd\";\n",
       "                var nbb_cells = Jupyter.notebook.get_cells();\n",
       "                for (var i = 0; i < nbb_cells.length; ++i) {\n",
       "                    if (nbb_cells[i].input_prompt_number == nbb_cell_id) {\n",
       "                        if (nbb_cells[i].get_text() == nbb_unformatted_code) {\n",
       "                             nbb_cells[i].set_text(nbb_formatted_code);\n",
       "                        }\n",
       "                        break;\n",
       "                    }\n",
       "                }\n",
       "            }, 500);\n",
       "            "
      ],
      "text/plain": [
       "<IPython.core.display.Javascript object>"
      ]
     },
     "metadata": {},
     "output_type": "display_data"
    }
   ],
   "source": [
    "import pandas as pd"
   ]
  },
  {
   "cell_type": "code",
   "execution_count": 4,
   "id": "d2c54ec7",
   "metadata": {},
   "outputs": [
    {
     "name": "stderr",
     "output_type": "stream",
     "text": [
      "C:\\Users\\VRUser2\\AppData\\Local\\Temp\\ipykernel_14716\\1159366089.py:1: DtypeWarning: Columns (41,42,43,44,45,46,47,48,49,50,51,52) have mixed types. Specify dtype option on import or set low_memory=False.\n",
      "  df = pd.read_csv(\"../CH/BasicCompanyDataAsOneFile-2022-05-01.csv\", low_memory=True)\n"
     ]
    },
    {
     "data": {
      "application/javascript": [
       "\n",
       "            setTimeout(function() {\n",
       "                var nbb_cell_id = 4;\n",
       "                var nbb_unformatted_code = \"df = pd.read_csv(\\\"../CH/BasicCompanyDataAsOneFile-2022-05-01.csv\\\", low_memory=True)\";\n",
       "                var nbb_formatted_code = \"df = pd.read_csv(\\\"../CH/BasicCompanyDataAsOneFile-2022-05-01.csv\\\", low_memory=True)\";\n",
       "                var nbb_cells = Jupyter.notebook.get_cells();\n",
       "                for (var i = 0; i < nbb_cells.length; ++i) {\n",
       "                    if (nbb_cells[i].input_prompt_number == nbb_cell_id) {\n",
       "                        if (nbb_cells[i].get_text() == nbb_unformatted_code) {\n",
       "                             nbb_cells[i].set_text(nbb_formatted_code);\n",
       "                        }\n",
       "                        break;\n",
       "                    }\n",
       "                }\n",
       "            }, 500);\n",
       "            "
      ],
      "text/plain": [
       "<IPython.core.display.Javascript object>"
      ]
     },
     "metadata": {},
     "output_type": "display_data"
    }
   ],
   "source": [
    "df = pd.read_csv(\"../CH/BasicCompanyDataAsOneFile-2022-05-01.csv\", low_memory=True)"
   ]
  },
  {
   "cell_type": "code",
   "execution_count": 5,
   "id": "dcac30bc",
   "metadata": {},
   "outputs": [
    {
     "data": {
      "text/plain": [
       "Index(['CompanyName', ' CompanyNumber', 'RegAddress.CareOf',\n",
       "       'RegAddress.POBox', 'RegAddress.AddressLine1',\n",
       "       ' RegAddress.AddressLine2', 'RegAddress.PostTown', 'RegAddress.County',\n",
       "       'RegAddress.Country', 'RegAddress.PostCode', 'CompanyCategory',\n",
       "       'CompanyStatus', 'CountryOfOrigin', 'DissolutionDate',\n",
       "       'IncorporationDate', 'Accounts.AccountRefDay',\n",
       "       'Accounts.AccountRefMonth', 'Accounts.NextDueDate',\n",
       "       'Accounts.LastMadeUpDate', 'Accounts.AccountCategory',\n",
       "       'Returns.NextDueDate', 'Returns.LastMadeUpDate',\n",
       "       'Mortgages.NumMortCharges', 'Mortgages.NumMortOutstanding',\n",
       "       'Mortgages.NumMortPartSatisfied', 'Mortgages.NumMortSatisfied',\n",
       "       'SICCode.SicText_1', 'SICCode.SicText_2', 'SICCode.SicText_3',\n",
       "       'SICCode.SicText_4', 'LimitedPartnerships.NumGenPartners',\n",
       "       'LimitedPartnerships.NumLimPartners', 'URI', 'PreviousName_1.CONDATE',\n",
       "       ' PreviousName_1.CompanyName', ' PreviousName_2.CONDATE',\n",
       "       ' PreviousName_2.CompanyName', 'PreviousName_3.CONDATE',\n",
       "       ' PreviousName_3.CompanyName', 'PreviousName_4.CONDATE',\n",
       "       ' PreviousName_4.CompanyName', 'PreviousName_5.CONDATE',\n",
       "       ' PreviousName_5.CompanyName', 'PreviousName_6.CONDATE',\n",
       "       ' PreviousName_6.CompanyName', 'PreviousName_7.CONDATE',\n",
       "       ' PreviousName_7.CompanyName', 'PreviousName_8.CONDATE',\n",
       "       ' PreviousName_8.CompanyName', 'PreviousName_9.CONDATE',\n",
       "       ' PreviousName_9.CompanyName', 'PreviousName_10.CONDATE',\n",
       "       ' PreviousName_10.CompanyName', 'ConfStmtNextDueDate',\n",
       "       ' ConfStmtLastMadeUpDate'],\n",
       "      dtype='object')"
      ]
     },
     "execution_count": 5,
     "metadata": {},
     "output_type": "execute_result"
    },
    {
     "data": {
      "application/javascript": [
       "\n",
       "            setTimeout(function() {\n",
       "                var nbb_cell_id = 5;\n",
       "                var nbb_unformatted_code = \"df.columns\";\n",
       "                var nbb_formatted_code = \"df.columns\";\n",
       "                var nbb_cells = Jupyter.notebook.get_cells();\n",
       "                for (var i = 0; i < nbb_cells.length; ++i) {\n",
       "                    if (nbb_cells[i].input_prompt_number == nbb_cell_id) {\n",
       "                        if (nbb_cells[i].get_text() == nbb_unformatted_code) {\n",
       "                             nbb_cells[i].set_text(nbb_formatted_code);\n",
       "                        }\n",
       "                        break;\n",
       "                    }\n",
       "                }\n",
       "            }, 500);\n",
       "            "
      ],
      "text/plain": [
       "<IPython.core.display.Javascript object>"
      ]
     },
     "metadata": {},
     "output_type": "display_data"
    }
   ],
   "source": [
    "df.columns"
   ]
  },
  {
   "cell_type": "code",
   "execution_count": 6,
   "id": "280e6267",
   "metadata": {},
   "outputs": [
    {
     "data": {
      "text/plain": [
       "(5080061, 55)"
      ]
     },
     "execution_count": 6,
     "metadata": {},
     "output_type": "execute_result"
    },
    {
     "data": {
      "application/javascript": [
       "\n",
       "            setTimeout(function() {\n",
       "                var nbb_cell_id = 6;\n",
       "                var nbb_unformatted_code = \"df.shape\";\n",
       "                var nbb_formatted_code = \"df.shape\";\n",
       "                var nbb_cells = Jupyter.notebook.get_cells();\n",
       "                for (var i = 0; i < nbb_cells.length; ++i) {\n",
       "                    if (nbb_cells[i].input_prompt_number == nbb_cell_id) {\n",
       "                        if (nbb_cells[i].get_text() == nbb_unformatted_code) {\n",
       "                             nbb_cells[i].set_text(nbb_formatted_code);\n",
       "                        }\n",
       "                        break;\n",
       "                    }\n",
       "                }\n",
       "            }, 500);\n",
       "            "
      ],
      "text/plain": [
       "<IPython.core.display.Javascript object>"
      ]
     },
     "metadata": {},
     "output_type": "display_data"
    }
   ],
   "source": [
    "df.shape"
   ]
  },
  {
   "cell_type": "code",
   "execution_count": 7,
   "id": "e2b66cbe",
   "metadata": {},
   "outputs": [
    {
     "data": {
      "text/plain": [
       "Active                                              93.031383\n",
       "Active - Proposal to Strike off                      4.879252\n",
       "Liquidation                                          1.986984\n",
       "In Administration                                    0.048070\n",
       "Live but Receiver Manager on at least one charge     0.025551\n",
       "Voluntary Arrangement                                0.013583\n",
       "In Administration/Administrative Receiver            0.005728\n",
       "RECEIVERSHIP                                         0.003740\n",
       "ADMINISTRATION ORDER                                 0.002539\n",
       "ADMINISTRATIVE RECEIVER                              0.002165\n",
       "In Administration/Receiver Manager                   0.000787\n",
       "RECEIVER MANAGER / ADMINISTRATIVE RECEIVER           0.000197\n",
       "VOLUNTARY ARRANGEMENT / ADMINISTRATIVE RECEIVER      0.000020\n",
       "Name: CompanyStatus, dtype: float64"
      ]
     },
     "execution_count": 7,
     "metadata": {},
     "output_type": "execute_result"
    },
    {
     "data": {
      "application/javascript": [
       "\n",
       "            setTimeout(function() {\n",
       "                var nbb_cell_id = 7;\n",
       "                var nbb_unformatted_code = \"df['CompanyStatus'].value_counts()*100/df.shape[0]\";\n",
       "                var nbb_formatted_code = \"df[\\\"CompanyStatus\\\"].value_counts() * 100 / df.shape[0]\";\n",
       "                var nbb_cells = Jupyter.notebook.get_cells();\n",
       "                for (var i = 0; i < nbb_cells.length; ++i) {\n",
       "                    if (nbb_cells[i].input_prompt_number == nbb_cell_id) {\n",
       "                        if (nbb_cells[i].get_text() == nbb_unformatted_code) {\n",
       "                             nbb_cells[i].set_text(nbb_formatted_code);\n",
       "                        }\n",
       "                        break;\n",
       "                    }\n",
       "                }\n",
       "            }, 500);\n",
       "            "
      ],
      "text/plain": [
       "<IPython.core.display.Javascript object>"
      ]
     },
     "metadata": {},
     "output_type": "display_data"
    }
   ],
   "source": [
    "df[\"CompanyStatus\"].value_counts() * 100 / df.shape[0]"
   ]
  },
  {
   "cell_type": "code",
   "execution_count": 8,
   "id": "7cd59584",
   "metadata": {},
   "outputs": [
    {
     "data": {
      "application/javascript": [
       "\n",
       "            setTimeout(function() {\n",
       "                var nbb_cell_id = 8;\n",
       "                var nbb_unformatted_code = \"df['Sector1']=df['SICCode.SicText_1'].str[:2].map(CLASSIFICATIONS)\\ndf['Sector2']=df['SICCode.SicText_2'].str[:2].map(CLASSIFICATIONS)\\ndf['Sector3']=df['SICCode.SicText_3'].str[:2].map(CLASSIFICATIONS)\\ndf['Sector4']=df['SICCode.SicText_4'].str[:2].map(CLASSIFICATIONS)\";\n",
       "                var nbb_formatted_code = \"df[\\\"Sector1\\\"] = df[\\\"SICCode.SicText_1\\\"].str[:2].map(CLASSIFICATIONS)\\ndf[\\\"Sector2\\\"] = df[\\\"SICCode.SicText_2\\\"].str[:2].map(CLASSIFICATIONS)\\ndf[\\\"Sector3\\\"] = df[\\\"SICCode.SicText_3\\\"].str[:2].map(CLASSIFICATIONS)\\ndf[\\\"Sector4\\\"] = df[\\\"SICCode.SicText_4\\\"].str[:2].map(CLASSIFICATIONS)\";\n",
       "                var nbb_cells = Jupyter.notebook.get_cells();\n",
       "                for (var i = 0; i < nbb_cells.length; ++i) {\n",
       "                    if (nbb_cells[i].input_prompt_number == nbb_cell_id) {\n",
       "                        if (nbb_cells[i].get_text() == nbb_unformatted_code) {\n",
       "                             nbb_cells[i].set_text(nbb_formatted_code);\n",
       "                        }\n",
       "                        break;\n",
       "                    }\n",
       "                }\n",
       "            }, 500);\n",
       "            "
      ],
      "text/plain": [
       "<IPython.core.display.Javascript object>"
      ]
     },
     "metadata": {},
     "output_type": "display_data"
    }
   ],
   "source": [
    "df[\"Sector1\"] = df[\"SICCode.SicText_1\"].str[:2].map(CLASSIFICATIONS)\n",
    "df[\"Sector2\"] = df[\"SICCode.SicText_2\"].str[:2].map(CLASSIFICATIONS)\n",
    "df[\"Sector3\"] = df[\"SICCode.SicText_3\"].str[:2].map(CLASSIFICATIONS)\n",
    "df[\"Sector4\"] = df[\"SICCode.SicText_4\"].str[:2].map(CLASSIFICATIONS)"
   ]
  },
  {
   "cell_type": "code",
   "execution_count": 9,
   "id": "f92cb84d",
   "metadata": {},
   "outputs": [
    {
     "data": {
      "text/plain": [
       "Professional, Scientific and Technical Activities                       13.163070\n",
       "Wholesale and Retail Trade; Repair of Motor Vehicles and Motorcycles    12.442252\n",
       "Construction                                                            10.259660\n",
       "Real Estate Activities                                                   8.458461\n",
       "Information and Communication                                            8.370766\n",
       "Administrative and Support Service Activities                            8.276082\n",
       "Accommodation and Food Service Activities                                4.847048\n",
       "Other Service Activities                                                 4.617071\n",
       "Manufacturing                                                            4.498588\n",
       "Human Health and Social Work Activities                                  3.787238\n",
       "Financial and Insurance Activities                                       3.482261\n",
       "Transportation and Storage                                               3.322165\n",
       "Activities of Extraterritorial Organisations and Bodies                  2.743254\n",
       "Arts, Entertainment and Recreation                                       2.331941\n",
       "Activities of Households and Employers                                   2.203340\n",
       "Education                                                                1.790589\n",
       "Agriculture,Forestry and Fishing                                         0.620150\n",
       "Water Supply; Sewerage, Waste Management and Remediation Activities      0.335153\n",
       "Electricity, Gand, Steam and Air Conditioning Supply                     0.315134\n",
       "Mining and Quarrying                                                     0.196769\n",
       "Agriculture, Forestry and Fishing                                        0.174821\n",
       "Public Administration and Defence; Compulsory Social Security            0.173955\n",
       "Name: Sector1, dtype: float64"
      ]
     },
     "execution_count": 9,
     "metadata": {},
     "output_type": "execute_result"
    },
    {
     "data": {
      "application/javascript": [
       "\n",
       "            setTimeout(function() {\n",
       "                var nbb_cell_id = 9;\n",
       "                var nbb_unformatted_code = \"df['Sector1'].value_counts()*100/df.shape[0]\";\n",
       "                var nbb_formatted_code = \"df[\\\"Sector1\\\"].value_counts() * 100 / df.shape[0]\";\n",
       "                var nbb_cells = Jupyter.notebook.get_cells();\n",
       "                for (var i = 0; i < nbb_cells.length; ++i) {\n",
       "                    if (nbb_cells[i].input_prompt_number == nbb_cell_id) {\n",
       "                        if (nbb_cells[i].get_text() == nbb_unformatted_code) {\n",
       "                             nbb_cells[i].set_text(nbb_formatted_code);\n",
       "                        }\n",
       "                        break;\n",
       "                    }\n",
       "                }\n",
       "            }, 500);\n",
       "            "
      ],
      "text/plain": [
       "<IPython.core.display.Javascript object>"
      ]
     },
     "metadata": {},
     "output_type": "display_data"
    }
   ],
   "source": [
    "df[\"Sector1\"].value_counts() * 100 / df.shape[0]"
   ]
  },
  {
   "cell_type": "code",
   "execution_count": 10,
   "id": "a3c07a67",
   "metadata": {},
   "outputs": [
    {
     "data": {
      "text/plain": [
       "(228531, 59)"
      ]
     },
     "execution_count": 10,
     "metadata": {},
     "output_type": "execute_result"
    },
    {
     "data": {
      "application/javascript": [
       "\n",
       "            setTimeout(function() {\n",
       "                var nbb_cell_id = 10;\n",
       "                var nbb_unformatted_code = \"df[df['Sector1']=='Manufacturing'].shape\";\n",
       "                var nbb_formatted_code = \"df[df[\\\"Sector1\\\"] == \\\"Manufacturing\\\"].shape\";\n",
       "                var nbb_cells = Jupyter.notebook.get_cells();\n",
       "                for (var i = 0; i < nbb_cells.length; ++i) {\n",
       "                    if (nbb_cells[i].input_prompt_number == nbb_cell_id) {\n",
       "                        if (nbb_cells[i].get_text() == nbb_unformatted_code) {\n",
       "                             nbb_cells[i].set_text(nbb_formatted_code);\n",
       "                        }\n",
       "                        break;\n",
       "                    }\n",
       "                }\n",
       "            }, 500);\n",
       "            "
      ],
      "text/plain": [
       "<IPython.core.display.Javascript object>"
      ]
     },
     "metadata": {},
     "output_type": "display_data"
    }
   ],
   "source": [
    "df[df[\"Sector1\"] == \"Manufacturing\"].shape"
   ]
  },
  {
   "cell_type": "markdown",
   "id": "9d61770b",
   "metadata": {},
   "source": [
    "* Manufacturing companies from SICCode_1 = 228,531"
   ]
  },
  {
   "cell_type": "code",
   "execution_count": 11,
   "id": "6212fc3c",
   "metadata": {},
   "outputs": [
    {
     "data": {
      "text/plain": [
       "(230231, 59)"
      ]
     },
     "execution_count": 11,
     "metadata": {},
     "output_type": "execute_result"
    },
    {
     "data": {
      "application/javascript": [
       "\n",
       "            setTimeout(function() {\n",
       "                var nbb_cell_id = 11;\n",
       "                var nbb_unformatted_code = \"df[(df['Sector1']=='Manufacturing')|(df['Sector2']=='Manufacturing')|(df['Sector3']=='Manufacturing')|(df['Sector4']=='Manufacturing')].shape\";\n",
       "                var nbb_formatted_code = \"df[\\n    (df[\\\"Sector1\\\"] == \\\"Manufacturing\\\")\\n    | (df[\\\"Sector2\\\"] == \\\"Manufacturing\\\")\\n    | (df[\\\"Sector3\\\"] == \\\"Manufacturing\\\")\\n    | (df[\\\"Sector4\\\"] == \\\"Manufacturing\\\")\\n].shape\";\n",
       "                var nbb_cells = Jupyter.notebook.get_cells();\n",
       "                for (var i = 0; i < nbb_cells.length; ++i) {\n",
       "                    if (nbb_cells[i].input_prompt_number == nbb_cell_id) {\n",
       "                        if (nbb_cells[i].get_text() == nbb_unformatted_code) {\n",
       "                             nbb_cells[i].set_text(nbb_formatted_code);\n",
       "                        }\n",
       "                        break;\n",
       "                    }\n",
       "                }\n",
       "            }, 500);\n",
       "            "
      ],
      "text/plain": [
       "<IPython.core.display.Javascript object>"
      ]
     },
     "metadata": {},
     "output_type": "display_data"
    }
   ],
   "source": [
    "df[\n",
    "    (df[\"Sector1\"] == \"Manufacturing\")\n",
    "    | (df[\"Sector2\"] == \"Manufacturing\")\n",
    "    | (df[\"Sector3\"] == \"Manufacturing\")\n",
    "    | (df[\"Sector4\"] == \"Manufacturing\")\n",
    "].shape"
   ]
  },
  {
   "cell_type": "markdown",
   "id": "b98949e5",
   "metadata": {},
   "source": [
    "* Manufacturing companies from SICCode_1,SICCode_2,SICCode_3,SICCode_4  = 230,231\n",
    "* 1,700 more, compared to previous case."
   ]
  },
  {
   "cell_type": "code",
   "execution_count": 12,
   "id": "9f1a8faf",
   "metadata": {},
   "outputs": [
    {
     "data": {
      "text/plain": [
       "Active                                              92.237796\n",
       "Active - Proposal to Strike off                      4.842093\n",
       "Liquidation                                          2.701634\n",
       "In Administration                                    0.133344\n",
       "Voluntary Arrangement                                0.032142\n",
       "In Administration/Administrative Receiver            0.020849\n",
       "RECEIVERSHIP                                         0.014333\n",
       "ADMINISTRATIVE RECEIVER                              0.009556\n",
       "ADMINISTRATION ORDER                                 0.005212\n",
       "Live but Receiver Manager on at least one charge     0.002606\n",
       "In Administration/Receiver Manager                   0.000434\n",
       "Name: CompanyStatus, dtype: float64"
      ]
     },
     "execution_count": 12,
     "metadata": {},
     "output_type": "execute_result"
    },
    {
     "data": {
      "application/javascript": [
       "\n",
       "            setTimeout(function() {\n",
       "                var nbb_cell_id = 12;\n",
       "                var nbb_unformatted_code = \"df_m = df[(df['Sector1']=='Manufacturing')|(df['Sector2']=='Manufacturing')|(df['Sector3']=='Manufacturing')|(df['Sector4']=='Manufacturing')]\\ndf_m['CompanyStatus'].value_counts()*100/df_m.shape[0]\";\n",
       "                var nbb_formatted_code = \"df_m = df[\\n    (df[\\\"Sector1\\\"] == \\\"Manufacturing\\\")\\n    | (df[\\\"Sector2\\\"] == \\\"Manufacturing\\\")\\n    | (df[\\\"Sector3\\\"] == \\\"Manufacturing\\\")\\n    | (df[\\\"Sector4\\\"] == \\\"Manufacturing\\\")\\n]\\ndf_m[\\\"CompanyStatus\\\"].value_counts() * 100 / df_m.shape[0]\";\n",
       "                var nbb_cells = Jupyter.notebook.get_cells();\n",
       "                for (var i = 0; i < nbb_cells.length; ++i) {\n",
       "                    if (nbb_cells[i].input_prompt_number == nbb_cell_id) {\n",
       "                        if (nbb_cells[i].get_text() == nbb_unformatted_code) {\n",
       "                             nbb_cells[i].set_text(nbb_formatted_code);\n",
       "                        }\n",
       "                        break;\n",
       "                    }\n",
       "                }\n",
       "            }, 500);\n",
       "            "
      ],
      "text/plain": [
       "<IPython.core.display.Javascript object>"
      ]
     },
     "metadata": {},
     "output_type": "display_data"
    }
   ],
   "source": [
    "df_m = df[\n",
    "    (df[\"Sector1\"] == \"Manufacturing\")\n",
    "    | (df[\"Sector2\"] == \"Manufacturing\")\n",
    "    | (df[\"Sector3\"] == \"Manufacturing\")\n",
    "    | (df[\"Sector4\"] == \"Manufacturing\")\n",
    "]\n",
    "df_m[\"CompanyStatus\"].value_counts() * 100 / df_m.shape[0]"
   ]
  },
  {
   "cell_type": "code",
   "execution_count": 13,
   "id": "5fc8494b",
   "metadata": {},
   "outputs": [
    {
     "data": {
      "text/plain": [
       "(212360, 59)"
      ]
     },
     "execution_count": 13,
     "metadata": {},
     "output_type": "execute_result"
    },
    {
     "data": {
      "application/javascript": [
       "\n",
       "            setTimeout(function() {\n",
       "                var nbb_cell_id = 13;\n",
       "                var nbb_unformatted_code = \"df_ac = df_m[df_m['CompanyStatus']=='Active']\\ndf_ac.shape\";\n",
       "                var nbb_formatted_code = \"df_ac = df_m[df_m[\\\"CompanyStatus\\\"] == \\\"Active\\\"]\\ndf_ac.shape\";\n",
       "                var nbb_cells = Jupyter.notebook.get_cells();\n",
       "                for (var i = 0; i < nbb_cells.length; ++i) {\n",
       "                    if (nbb_cells[i].input_prompt_number == nbb_cell_id) {\n",
       "                        if (nbb_cells[i].get_text() == nbb_unformatted_code) {\n",
       "                             nbb_cells[i].set_text(nbb_formatted_code);\n",
       "                        }\n",
       "                        break;\n",
       "                    }\n",
       "                }\n",
       "            }, 500);\n",
       "            "
      ],
      "text/plain": [
       "<IPython.core.display.Javascript object>"
      ]
     },
     "metadata": {},
     "output_type": "display_data"
    }
   ],
   "source": [
    "df_ac = df_m[df_m[\"CompanyStatus\"] == \"Active\"]\n",
    "df_ac.shape"
   ]
  },
  {
   "cell_type": "markdown",
   "id": "d7c73263",
   "metadata": {},
   "source": [
    "* 212,360 Active Companies"
   ]
  },
  {
   "cell_type": "code",
   "execution_count": 14,
   "id": "4805399e",
   "metadata": {},
   "outputs": [
    {
     "data": {
      "text/plain": [
       "(25419309, 14)"
      ]
     },
     "execution_count": 14,
     "metadata": {},
     "output_type": "execute_result"
    },
    {
     "data": {
      "application/javascript": [
       "\n",
       "            setTimeout(function() {\n",
       "                var nbb_cell_id = 14;\n",
       "                var nbb_unformatted_code = \"fin = pd.read_csv(\\\"financial_data1.csv\\\", low_memory=False)\\nfin.shape\";\n",
       "                var nbb_formatted_code = \"fin = pd.read_csv(\\\"financial_data1.csv\\\", low_memory=False)\\nfin.shape\";\n",
       "                var nbb_cells = Jupyter.notebook.get_cells();\n",
       "                for (var i = 0; i < nbb_cells.length; ++i) {\n",
       "                    if (nbb_cells[i].input_prompt_number == nbb_cell_id) {\n",
       "                        if (nbb_cells[i].get_text() == nbb_unformatted_code) {\n",
       "                             nbb_cells[i].set_text(nbb_formatted_code);\n",
       "                        }\n",
       "                        break;\n",
       "                    }\n",
       "                }\n",
       "            }, 500);\n",
       "            "
      ],
      "text/plain": [
       "<IPython.core.display.Javascript object>"
      ]
     },
     "metadata": {},
     "output_type": "display_data"
    }
   ],
   "source": [
    "fin = pd.read_csv(\"financial_data1.csv\", low_memory=False)\n",
    "fin.shape"
   ]
  },
  {
   "cell_type": "code",
   "execution_count": 15,
   "id": "5ef24582",
   "metadata": {},
   "outputs": [
    {
     "name": "stderr",
     "output_type": "stream",
     "text": [
      "C:\\Users\\VRUser2\\AppData\\Local\\Temp\\ipykernel_14716\\3423395216.py:1: SettingWithCopyWarning: \n",
      "A value is trying to be set on a copy of a slice from a DataFrame.\n",
      "Try using .loc[row_indexer,col_indexer] = value instead\n",
      "\n",
      "See the caveats in the documentation: https://pandas.pydata.org/pandas-docs/stable/user_guide/indexing.html#returning-a-view-versus-a-copy\n",
      "  df_ac[' CompanyNumber'] = df_ac[' CompanyNumber'].apply(lambda x: x.zfill(8))\n"
     ]
    },
    {
     "data": {
      "application/javascript": [
       "\n",
       "            setTimeout(function() {\n",
       "                var nbb_cell_id = 15;\n",
       "                var nbb_unformatted_code = \"df_ac[' CompanyNumber'] = df_ac[' CompanyNumber'].apply(lambda x: x.zfill(8))\\nfin['Company Registered Number'] = fin['Company Registered Number'].apply(lambda x: x.zfill(8))\";\n",
       "                var nbb_formatted_code = \"df_ac[\\\" CompanyNumber\\\"] = df_ac[\\\" CompanyNumber\\\"].apply(lambda x: x.zfill(8))\\nfin[\\\"Company Registered Number\\\"] = fin[\\\"Company Registered Number\\\"].apply(\\n    lambda x: x.zfill(8)\\n)\";\n",
       "                var nbb_cells = Jupyter.notebook.get_cells();\n",
       "                for (var i = 0; i < nbb_cells.length; ++i) {\n",
       "                    if (nbb_cells[i].input_prompt_number == nbb_cell_id) {\n",
       "                        if (nbb_cells[i].get_text() == nbb_unformatted_code) {\n",
       "                             nbb_cells[i].set_text(nbb_formatted_code);\n",
       "                        }\n",
       "                        break;\n",
       "                    }\n",
       "                }\n",
       "            }, 500);\n",
       "            "
      ],
      "text/plain": [
       "<IPython.core.display.Javascript object>"
      ]
     },
     "metadata": {},
     "output_type": "display_data"
    }
   ],
   "source": [
    "df_ac[\" CompanyNumber\"] = df_ac[\" CompanyNumber\"].apply(lambda x: x.zfill(8))\n",
    "fin[\"Company Registered Number\"] = fin[\"Company Registered Number\"].apply(\n",
    "    lambda x: x.zfill(8)\n",
    ")"
   ]
  },
  {
   "cell_type": "code",
   "execution_count": 16,
   "id": "3f2c4adf",
   "metadata": {},
   "outputs": [
    {
     "data": {
      "text/plain": [
       "(150732, 59)"
      ]
     },
     "execution_count": 16,
     "metadata": {},
     "output_type": "execute_result"
    },
    {
     "data": {
      "application/javascript": [
       "\n",
       "            setTimeout(function() {\n",
       "                var nbb_cell_id = 16;\n",
       "                var nbb_unformatted_code = \"df_ac[df_ac[' CompanyNumber'].isin(fin['Company Registered Number'])].shape\";\n",
       "                var nbb_formatted_code = \"df_ac[df_ac[\\\" CompanyNumber\\\"].isin(fin[\\\"Company Registered Number\\\"])].shape\";\n",
       "                var nbb_cells = Jupyter.notebook.get_cells();\n",
       "                for (var i = 0; i < nbb_cells.length; ++i) {\n",
       "                    if (nbb_cells[i].input_prompt_number == nbb_cell_id) {\n",
       "                        if (nbb_cells[i].get_text() == nbb_unformatted_code) {\n",
       "                             nbb_cells[i].set_text(nbb_formatted_code);\n",
       "                        }\n",
       "                        break;\n",
       "                    }\n",
       "                }\n",
       "            }, 500);\n",
       "            "
      ],
      "text/plain": [
       "<IPython.core.display.Javascript object>"
      ]
     },
     "metadata": {},
     "output_type": "display_data"
    }
   ],
   "source": [
    "df_ac[df_ac[\" CompanyNumber\"].isin(fin[\"Company Registered Number\"])].shape"
   ]
  },
  {
   "cell_type": "code",
   "execution_count": 18,
   "id": "4c37a904",
   "metadata": {},
   "outputs": [
    {
     "data": {
      "text/plain": [
       "0.70979468826521"
      ]
     },
     "execution_count": 18,
     "metadata": {},
     "output_type": "execute_result"
    },
    {
     "data": {
      "application/javascript": [
       "\n",
       "            setTimeout(function() {\n",
       "                var nbb_cell_id = 18;\n",
       "                var nbb_unformatted_code = \"150732/df_ac.shape[0]\";\n",
       "                var nbb_formatted_code = \"150732 / df_ac.shape[0]\";\n",
       "                var nbb_cells = Jupyter.notebook.get_cells();\n",
       "                for (var i = 0; i < nbb_cells.length; ++i) {\n",
       "                    if (nbb_cells[i].input_prompt_number == nbb_cell_id) {\n",
       "                        if (nbb_cells[i].get_text() == nbb_unformatted_code) {\n",
       "                             nbb_cells[i].set_text(nbb_formatted_code);\n",
       "                        }\n",
       "                        break;\n",
       "                    }\n",
       "                }\n",
       "            }, 500);\n",
       "            "
      ],
      "text/plain": [
       "<IPython.core.display.Javascript object>"
      ]
     },
     "metadata": {},
     "output_type": "display_data"
    }
   ],
   "source": [
    "150732 / df_ac.shape[0]"
   ]
  },
  {
   "cell_type": "code",
   "execution_count": 19,
   "id": "bed4ccc2",
   "metadata": {},
   "outputs": [
    {
     "data": {
      "application/javascript": [
       "\n",
       "            setTimeout(function() {\n",
       "                var nbb_cell_id = 19;\n",
       "                var nbb_unformatted_code = \"fin[fin['Company Registered Number'].isin(df_ac[' CompanyNumber'])].to_csv(\\\"manf_finan.csv\\\", header=True,index=False)\";\n",
       "                var nbb_formatted_code = \"fin[fin[\\\"Company Registered Number\\\"].isin(df_ac[\\\" CompanyNumber\\\"])].to_csv(\\n    \\\"manf_finan.csv\\\", header=True, index=False\\n)\";\n",
       "                var nbb_cells = Jupyter.notebook.get_cells();\n",
       "                for (var i = 0; i < nbb_cells.length; ++i) {\n",
       "                    if (nbb_cells[i].input_prompt_number == nbb_cell_id) {\n",
       "                        if (nbb_cells[i].get_text() == nbb_unformatted_code) {\n",
       "                             nbb_cells[i].set_text(nbb_formatted_code);\n",
       "                        }\n",
       "                        break;\n",
       "                    }\n",
       "                }\n",
       "            }, 500);\n",
       "            "
      ],
      "text/plain": [
       "<IPython.core.display.Javascript object>"
      ]
     },
     "metadata": {},
     "output_type": "display_data"
    }
   ],
   "source": [
    "fin[fin[\"Company Registered Number\"].isin(df_ac[\" CompanyNumber\"])].to_csv(\n",
    "    \"manf_finan.csv\", header=True, index=False\n",
    ")"
   ]
  },
  {
   "cell_type": "code",
   "execution_count": 22,
   "id": "c0433598",
   "metadata": {},
   "outputs": [
    {
     "name": "stderr",
     "output_type": "stream",
     "text": [
      "C:\\Users\\VRUser2\\AppData\\Local\\Temp\\ipykernel_14716\\110682329.py:1: DtypeWarning: Columns (0) have mixed types. Specify dtype option on import or set low_memory=False.\n",
      "  manf_fin = pd.read_csv(\"manf_finan-cleaned-classified.csv\")\n"
     ]
    },
    {
     "data": {
      "text/plain": [
       "(147431, 7)"
      ]
     },
     "execution_count": 22,
     "metadata": {},
     "output_type": "execute_result"
    },
    {
     "data": {
      "application/javascript": [
       "\n",
       "            setTimeout(function() {\n",
       "                var nbb_cell_id = 22;\n",
       "                var nbb_unformatted_code = \"manf_fin = pd.read_csv(\\\"manf_finan-cleaned-classified.csv\\\")\\nmanf_fin.shape\";\n",
       "                var nbb_formatted_code = \"manf_fin = pd.read_csv(\\\"manf_finan-cleaned-classified.csv\\\")\\nmanf_fin.shape\";\n",
       "                var nbb_cells = Jupyter.notebook.get_cells();\n",
       "                for (var i = 0; i < nbb_cells.length; ++i) {\n",
       "                    if (nbb_cells[i].input_prompt_number == nbb_cell_id) {\n",
       "                        if (nbb_cells[i].get_text() == nbb_unformatted_code) {\n",
       "                             nbb_cells[i].set_text(nbb_formatted_code);\n",
       "                        }\n",
       "                        break;\n",
       "                    }\n",
       "                }\n",
       "            }, 500);\n",
       "            "
      ],
      "text/plain": [
       "<IPython.core.display.Javascript object>"
      ]
     },
     "metadata": {},
     "output_type": "display_data"
    }
   ],
   "source": [
    "manf_fin = pd.read_csv(\"manf_finan-cleaned-classified.csv\")\n",
    "manf_fin.shape"
   ]
  },
  {
   "cell_type": "code",
   "execution_count": 23,
   "id": "df9ca9d3",
   "metadata": {},
   "outputs": [
    {
     "name": "stdout",
     "output_type": "stream",
     "text": [
      "<class 'pandas.core.frame.DataFrame'>\n",
      "RangeIndex: 147431 entries, 0 to 147430\n",
      "Data columns (total 7 columns):\n",
      " #   Column                     Non-Null Count   Dtype  \n",
      "---  ------                     --------------   -----  \n",
      " 0   Company Registered Number  147431 non-null  object \n",
      " 1   Equity                     147431 non-null  float64\n",
      " 2   Percentage Change          147431 non-null  object \n",
      " 3   SME Classification         147431 non-null  object \n",
      " 4   Equity Category            147431 non-null  object \n",
      " 5   PCT Category               147431 non-null  object \n",
      " 6   Category                   147431 non-null  object \n",
      "dtypes: float64(1), object(6)\n",
      "memory usage: 7.9+ MB\n"
     ]
    },
    {
     "data": {
      "application/javascript": [
       "\n",
       "            setTimeout(function() {\n",
       "                var nbb_cell_id = 23;\n",
       "                var nbb_unformatted_code = \"manf_fin.info()\";\n",
       "                var nbb_formatted_code = \"manf_fin.info()\";\n",
       "                var nbb_cells = Jupyter.notebook.get_cells();\n",
       "                for (var i = 0; i < nbb_cells.length; ++i) {\n",
       "                    if (nbb_cells[i].input_prompt_number == nbb_cell_id) {\n",
       "                        if (nbb_cells[i].get_text() == nbb_unformatted_code) {\n",
       "                             nbb_cells[i].set_text(nbb_formatted_code);\n",
       "                        }\n",
       "                        break;\n",
       "                    }\n",
       "                }\n",
       "            }, 500);\n",
       "            "
      ],
      "text/plain": [
       "<IPython.core.display.Javascript object>"
      ]
     },
     "metadata": {},
     "output_type": "display_data"
    }
   ],
   "source": [
    "manf_fin.info()"
   ]
  },
  {
   "cell_type": "code",
   "execution_count": 25,
   "id": "19b2b22a",
   "metadata": {},
   "outputs": [
    {
     "data": {
      "text/plain": [
       "Strugglers           68820\n",
       "Prospects            38704\n",
       "No Classification    33072\n",
       "Contenders            5693\n",
       "Champions              954\n",
       "Star Performers        188\n",
       "Name: Category, dtype: int64"
      ]
     },
     "execution_count": 25,
     "metadata": {},
     "output_type": "execute_result"
    },
    {
     "data": {
      "application/javascript": [
       "\n",
       "            setTimeout(function() {\n",
       "                var nbb_cell_id = 25;\n",
       "                var nbb_unformatted_code = \"manf_fin[\\\"Category\\\"].value_counts()\";\n",
       "                var nbb_formatted_code = \"manf_fin[\\\"Category\\\"].value_counts()\";\n",
       "                var nbb_cells = Jupyter.notebook.get_cells();\n",
       "                for (var i = 0; i < nbb_cells.length; ++i) {\n",
       "                    if (nbb_cells[i].input_prompt_number == nbb_cell_id) {\n",
       "                        if (nbb_cells[i].get_text() == nbb_unformatted_code) {\n",
       "                             nbb_cells[i].set_text(nbb_formatted_code);\n",
       "                        }\n",
       "                        break;\n",
       "                    }\n",
       "                }\n",
       "            }, 500);\n",
       "            "
      ],
      "text/plain": [
       "<IPython.core.display.Javascript object>"
      ]
     },
     "metadata": {},
     "output_type": "display_data"
    }
   ],
   "source": [
    "manf_fin[\"Category\"].value_counts()"
   ]
  },
  {
   "cell_type": "code",
   "execution_count": 26,
   "id": "45ab3b0c",
   "metadata": {},
   "outputs": [
    {
     "data": {
      "application/javascript": [
       "\n",
       "            setTimeout(function() {\n",
       "                var nbb_cell_id = 26;\n",
       "                var nbb_unformatted_code = \"manf_fin['Company Registered Number'] = manf_fin['Company Registered Number'].apply(lambda x: str(x).zfill(8))\";\n",
       "                var nbb_formatted_code = \"manf_fin[\\\"Company Registered Number\\\"] = manf_fin[\\\"Company Registered Number\\\"].apply(\\n    lambda x: str(x).zfill(8)\\n)\";\n",
       "                var nbb_cells = Jupyter.notebook.get_cells();\n",
       "                for (var i = 0; i < nbb_cells.length; ++i) {\n",
       "                    if (nbb_cells[i].input_prompt_number == nbb_cell_id) {\n",
       "                        if (nbb_cells[i].get_text() == nbb_unformatted_code) {\n",
       "                             nbb_cells[i].set_text(nbb_formatted_code);\n",
       "                        }\n",
       "                        break;\n",
       "                    }\n",
       "                }\n",
       "            }, 500);\n",
       "            "
      ],
      "text/plain": [
       "<IPython.core.display.Javascript object>"
      ]
     },
     "metadata": {},
     "output_type": "display_data"
    }
   ],
   "source": [
    "manf_fin[\"Company Registered Number\"] = manf_fin[\"Company Registered Number\"].apply(\n",
    "    lambda x: str(x).zfill(8)\n",
    ")"
   ]
  },
  {
   "cell_type": "code",
   "execution_count": 27,
   "id": "e19b50af",
   "metadata": {},
   "outputs": [
    {
     "data": {
      "text/plain": [
       "(147431, 59)"
      ]
     },
     "execution_count": 27,
     "metadata": {},
     "output_type": "execute_result"
    },
    {
     "data": {
      "application/javascript": [
       "\n",
       "            setTimeout(function() {\n",
       "                var nbb_cell_id = 27;\n",
       "                var nbb_unformatted_code = \"df_ac[df_ac[' CompanyNumber'].isin(manf_fin['Company Registered Number'])].shape\";\n",
       "                var nbb_formatted_code = \"df_ac[df_ac[\\\" CompanyNumber\\\"].isin(manf_fin[\\\"Company Registered Number\\\"])].shape\";\n",
       "                var nbb_cells = Jupyter.notebook.get_cells();\n",
       "                for (var i = 0; i < nbb_cells.length; ++i) {\n",
       "                    if (nbb_cells[i].input_prompt_number == nbb_cell_id) {\n",
       "                        if (nbb_cells[i].get_text() == nbb_unformatted_code) {\n",
       "                             nbb_cells[i].set_text(nbb_formatted_code);\n",
       "                        }\n",
       "                        break;\n",
       "                    }\n",
       "                }\n",
       "            }, 500);\n",
       "            "
      ],
      "text/plain": [
       "<IPython.core.display.Javascript object>"
      ]
     },
     "metadata": {},
     "output_type": "display_data"
    }
   ],
   "source": [
    "df_ac[df_ac[\" CompanyNumber\"].isin(manf_fin[\"Company Registered Number\"])].shape"
   ]
  },
  {
   "cell_type": "code",
   "execution_count": 28,
   "id": "8152e34d",
   "metadata": {},
   "outputs": [
    {
     "name": "stdout",
     "output_type": "stream",
     "text": [
      "<class 'pandas.core.frame.DataFrame'>\n",
      "Int64Index: 212360 entries, 0 to 212359\n",
      "Data columns (total 66 columns):\n",
      " #   Column                              Non-Null Count   Dtype  \n",
      "---  ------                              --------------   -----  \n",
      " 0   CompanyName                         212360 non-null  object \n",
      " 1    CompanyNumber                      212360 non-null  object \n",
      " 2   RegAddress.CareOf                   2204 non-null    object \n",
      " 3   RegAddress.POBox                    586 non-null     object \n",
      " 4   RegAddress.AddressLine1             212358 non-null  object \n",
      " 5    RegAddress.AddressLine2            148626 non-null  object \n",
      " 6   RegAddress.PostTown                 210686 non-null  object \n",
      " 7   RegAddress.County                   87652 non-null   object \n",
      " 8   RegAddress.Country                  145157 non-null  object \n",
      " 9   RegAddress.PostCode                 212186 non-null  object \n",
      " 10  CompanyCategory                     212360 non-null  object \n",
      " 11  CompanyStatus                       212360 non-null  object \n",
      " 12  CountryOfOrigin                     212360 non-null  object \n",
      " 13  DissolutionDate                     0 non-null       float64\n",
      " 14  IncorporationDate                   212360 non-null  object \n",
      " 15  Accounts.AccountRefDay              212359 non-null  float64\n",
      " 16  Accounts.AccountRefMonth            212359 non-null  float64\n",
      " 17  Accounts.NextDueDate                212232 non-null  object \n",
      " 18  Accounts.LastMadeUpDate             165703 non-null  object \n",
      " 19  Accounts.AccountCategory            212360 non-null  object \n",
      " 20  Returns.NextDueDate                 212354 non-null  object \n",
      " 21  Returns.LastMadeUpDate              104418 non-null  object \n",
      " 22  Mortgages.NumMortCharges            212360 non-null  int64  \n",
      " 23  Mortgages.NumMortOutstanding        212360 non-null  int64  \n",
      " 24  Mortgages.NumMortPartSatisfied      212360 non-null  int64  \n",
      " 25  Mortgages.NumMortSatisfied          212360 non-null  int64  \n",
      " 26  SICCode.SicText_1                   212360 non-null  object \n",
      " 27  SICCode.SicText_2                   60281 non-null   object \n",
      " 28  SICCode.SicText_3                   29217 non-null   object \n",
      " 29  SICCode.SicText_4                   14820 non-null   object \n",
      " 30  LimitedPartnerships.NumGenPartners  212360 non-null  int64  \n",
      " 31  LimitedPartnerships.NumLimPartners  212360 non-null  int64  \n",
      " 32  URI                                 212360 non-null  object \n",
      " 33  PreviousName_1.CONDATE              26519 non-null   object \n",
      " 34   PreviousName_1.CompanyName         26519 non-null   object \n",
      " 35   PreviousName_2.CONDATE             4736 non-null    object \n",
      " 36   PreviousName_2.CompanyName         4736 non-null    object \n",
      " 37  PreviousName_3.CONDATE              1000 non-null    object \n",
      " 38   PreviousName_3.CompanyName         1000 non-null    object \n",
      " 39  PreviousName_4.CONDATE              236 non-null     object \n",
      " 40   PreviousName_4.CompanyName         236 non-null     object \n",
      " 41  PreviousName_5.CONDATE              58 non-null      object \n",
      " 42   PreviousName_5.CompanyName         58 non-null      object \n",
      " 43  PreviousName_6.CONDATE              18 non-null      object \n",
      " 44   PreviousName_6.CompanyName         18 non-null      object \n",
      " 45  PreviousName_7.CONDATE              2 non-null       object \n",
      " 46   PreviousName_7.CompanyName         2 non-null       object \n",
      " 47  PreviousName_8.CONDATE              1 non-null       object \n",
      " 48   PreviousName_8.CompanyName         1 non-null       object \n",
      " 49  PreviousName_9.CONDATE              1 non-null       object \n",
      " 50   PreviousName_9.CompanyName         1 non-null       object \n",
      " 51  PreviousName_10.CONDATE             1 non-null       object \n",
      " 52   PreviousName_10.CompanyName        1 non-null       object \n",
      " 53  ConfStmtNextDueDate                 212129 non-null  object \n",
      " 54   ConfStmtLastMadeUpDate             180747 non-null  object \n",
      " 55  Sector1                             212360 non-null  object \n",
      " 56  Sector2                             60279 non-null   object \n",
      " 57  Sector3                             29217 non-null   object \n",
      " 58  Sector4                             14819 non-null   object \n",
      " 59  Company Registered Number           147431 non-null  object \n",
      " 60  Equity                              147431 non-null  float64\n",
      " 61  Percentage Change                   147431 non-null  object \n",
      " 62  SME Classification                  147431 non-null  object \n",
      " 63  Equity Category                     147431 non-null  object \n",
      " 64  PCT Category                        147431 non-null  object \n",
      " 65  Category                            147431 non-null  object \n",
      "dtypes: float64(4), int64(6), object(56)\n",
      "memory usage: 108.6+ MB\n"
     ]
    },
    {
     "data": {
      "application/javascript": [
       "\n",
       "            setTimeout(function() {\n",
       "                var nbb_cell_id = 28;\n",
       "                var nbb_unformatted_code = \"pd.merge(df_ac, manf_fin, how='left', left_on=' CompanyNumber', right_on='Company Registered Number').info()\";\n",
       "                var nbb_formatted_code = \"pd.merge(\\n    df_ac,\\n    manf_fin,\\n    how=\\\"left\\\",\\n    left_on=\\\" CompanyNumber\\\",\\n    right_on=\\\"Company Registered Number\\\",\\n).info()\";\n",
       "                var nbb_cells = Jupyter.notebook.get_cells();\n",
       "                for (var i = 0; i < nbb_cells.length; ++i) {\n",
       "                    if (nbb_cells[i].input_prompt_number == nbb_cell_id) {\n",
       "                        if (nbb_cells[i].get_text() == nbb_unformatted_code) {\n",
       "                             nbb_cells[i].set_text(nbb_formatted_code);\n",
       "                        }\n",
       "                        break;\n",
       "                    }\n",
       "                }\n",
       "            }, 500);\n",
       "            "
      ],
      "text/plain": [
       "<IPython.core.display.Javascript object>"
      ]
     },
     "metadata": {},
     "output_type": "display_data"
    }
   ],
   "source": [
    "pd.merge(\n",
    "    df_ac,\n",
    "    manf_fin,\n",
    "    how=\"left\",\n",
    "    left_on=\" CompanyNumber\",\n",
    "    right_on=\"Company Registered Number\",\n",
    ").info()"
   ]
  },
  {
   "cell_type": "code",
   "execution_count": 29,
   "id": "1b58e0cf",
   "metadata": {},
   "outputs": [
    {
     "data": {
      "text/plain": [
       "00019071    1\n",
       "10911432    1\n",
       "10910973    1\n",
       "10911187    1\n",
       "10911238    1\n",
       "           ..\n",
       "06769897    1\n",
       "06769649    1\n",
       "06769605    1\n",
       "06769218    1\n",
       "SC700594    1\n",
       "Name: Company Registered Number, Length: 147431, dtype: int64"
      ]
     },
     "execution_count": 29,
     "metadata": {},
     "output_type": "execute_result"
    },
    {
     "data": {
      "application/javascript": [
       "\n",
       "            setTimeout(function() {\n",
       "                var nbb_cell_id = 29;\n",
       "                var nbb_unformatted_code = \"manf_fin['Company Registered Number'].value_counts()\";\n",
       "                var nbb_formatted_code = \"manf_fin[\\\"Company Registered Number\\\"].value_counts()\";\n",
       "                var nbb_cells = Jupyter.notebook.get_cells();\n",
       "                for (var i = 0; i < nbb_cells.length; ++i) {\n",
       "                    if (nbb_cells[i].input_prompt_number == nbb_cell_id) {\n",
       "                        if (nbb_cells[i].get_text() == nbb_unformatted_code) {\n",
       "                             nbb_cells[i].set_text(nbb_formatted_code);\n",
       "                        }\n",
       "                        break;\n",
       "                    }\n",
       "                }\n",
       "            }, 500);\n",
       "            "
      ],
      "text/plain": [
       "<IPython.core.display.Javascript object>"
      ]
     },
     "metadata": {},
     "output_type": "display_data"
    }
   ],
   "source": [
    "manf_fin[\"Company Registered Number\"].value_counts()"
   ]
  },
  {
   "cell_type": "code",
   "execution_count": null,
   "id": "e50c0769",
   "metadata": {},
   "outputs": [],
   "source": []
  }
 ],
 "metadata": {
  "kernelspec": {
   "display_name": "Python 3 (ipykernel)",
   "language": "python",
   "name": "python3"
  },
  "language_info": {
   "codemirror_mode": {
    "name": "ipython",
    "version": 3
   },
   "file_extension": ".py",
   "mimetype": "text/x-python",
   "name": "python",
   "nbconvert_exporter": "python",
   "pygments_lexer": "ipython3",
   "version": "3.9.12"
  }
 },
 "nbformat": 4,
 "nbformat_minor": 5
}
